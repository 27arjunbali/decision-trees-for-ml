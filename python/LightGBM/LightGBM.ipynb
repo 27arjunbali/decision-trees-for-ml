{
 "cells": [
  {
   "cell_type": "markdown",
   "metadata": {},
   "source": [
    "# LightGBM Hello World Example"
   ]
  },
  {
   "cell_type": "markdown",
   "metadata": {},
   "source": [
    "In this notebook, we are going to mention Microsoft LightGBM framework on a simple data set. This includes both preprocessing steps and modelling parts. You may change the source data set and run this notebook again."
   ]
  },
  {
   "cell_type": "markdown",
   "metadata": {},
   "source": [
    "### Prerequisites\n",
    "\n",
    "You need to install the following packages\n",
    "\n",
    "pip install pandas numpy lightgbm graphviz matplotlib"
   ]
  },
  {
   "cell_type": "code",
   "execution_count": 1,
   "metadata": {},
   "outputs": [],
   "source": [
    "import lightgbm as lgb\n",
    "import pandas as pd\n",
    "import numpy as np\n",
    "import matplotlib.pyplot as plt\n",
    "import os"
   ]
  },
  {
   "cell_type": "markdown",
   "metadata": {},
   "source": [
    "To plot built decision tree you need to download graphviz from the following link\n",
    "\n",
    "https://graphviz.gitlab.io/_pages/Download/Download_windows.html\n",
    "\n",
    "You will specify the installed path in the following block."
   ]
  },
  {
   "cell_type": "code",
   "execution_count": 2,
   "metadata": {},
   "outputs": [],
   "source": [
    "os.environ[\"PATH\"] += os.pathsep + 'C:/Program Files (x86)/Graphviz2.38/bin' #be sure where graphviz installed"
   ]
  },
  {
   "cell_type": "code",
   "execution_count": 3,
   "metadata": {},
   "outputs": [],
   "source": [
    "is_regression = False #set this True to run classification\n",
    "plotTree = False #if you haven't installed graphviz set this to False"
   ]
  },
  {
   "cell_type": "markdown",
   "metadata": {},
   "source": [
    "We are going to work on playing golf decision data set.\n",
    "\n",
    "You can find the raw data set here: https://github.com/serengil/decision-trees-for-ml/tree/master/dataset"
   ]
  },
  {
   "cell_type": "code",
   "execution_count": 4,
   "metadata": {},
   "outputs": [],
   "source": [
    "dataset = pd.read_csv('C:/Users/IS96273/Desktop/decision tree/dataset/golf2.txt')"
   ]
  },
  {
   "cell_type": "code",
   "execution_count": 5,
   "metadata": {},
   "outputs": [
    {
     "data": {
      "text/html": [
       "<div>\n",
       "<style scoped>\n",
       "    .dataframe tbody tr th:only-of-type {\n",
       "        vertical-align: middle;\n",
       "    }\n",
       "\n",
       "    .dataframe tbody tr th {\n",
       "        vertical-align: top;\n",
       "    }\n",
       "\n",
       "    .dataframe thead th {\n",
       "        text-align: right;\n",
       "    }\n",
       "</style>\n",
       "<table border=\"1\" class=\"dataframe\">\n",
       "  <thead>\n",
       "    <tr style=\"text-align: right;\">\n",
       "      <th></th>\n",
       "      <th>Outlook</th>\n",
       "      <th>Temp.</th>\n",
       "      <th>Humidity</th>\n",
       "      <th>Wind</th>\n",
       "      <th>Decision</th>\n",
       "    </tr>\n",
       "  </thead>\n",
       "  <tbody>\n",
       "    <tr>\n",
       "      <th>0</th>\n",
       "      <td>Sunny</td>\n",
       "      <td>85</td>\n",
       "      <td>85</td>\n",
       "      <td>Weak</td>\n",
       "      <td>No</td>\n",
       "    </tr>\n",
       "    <tr>\n",
       "      <th>1</th>\n",
       "      <td>Sunny</td>\n",
       "      <td>80</td>\n",
       "      <td>90</td>\n",
       "      <td>Strong</td>\n",
       "      <td>No</td>\n",
       "    </tr>\n",
       "    <tr>\n",
       "      <th>2</th>\n",
       "      <td>Overcast</td>\n",
       "      <td>83</td>\n",
       "      <td>78</td>\n",
       "      <td>Weak</td>\n",
       "      <td>Yes</td>\n",
       "    </tr>\n",
       "    <tr>\n",
       "      <th>3</th>\n",
       "      <td>Rain</td>\n",
       "      <td>70</td>\n",
       "      <td>96</td>\n",
       "      <td>Weak</td>\n",
       "      <td>Yes</td>\n",
       "    </tr>\n",
       "    <tr>\n",
       "      <th>4</th>\n",
       "      <td>Rain</td>\n",
       "      <td>68</td>\n",
       "      <td>80</td>\n",
       "      <td>Weak</td>\n",
       "      <td>Yes</td>\n",
       "    </tr>\n",
       "  </tbody>\n",
       "</table>\n",
       "</div>"
      ],
      "text/plain": [
       "    Outlook  Temp.  Humidity    Wind Decision\n",
       "0     Sunny     85        85    Weak       No\n",
       "1     Sunny     80        90  Strong       No\n",
       "2  Overcast     83        78    Weak      Yes\n",
       "3      Rain     70        96    Weak      Yes\n",
       "4      Rain     68        80    Weak      Yes"
      ]
     },
     "execution_count": 5,
     "metadata": {},
     "output_type": "execute_result"
    }
   ],
   "source": [
    "dataset.head()"
   ]
  },
  {
   "cell_type": "markdown",
   "metadata": {},
   "source": [
    "As seen loaded data set includes both continuous and string features"
   ]
  },
  {
   "cell_type": "markdown",
   "metadata": {},
   "source": [
    "### Label encoding\n",
    "\n",
    "LightGBM framework expects to convert categorical features to integer before constructing the dataset. That's why, we are going to apply label encoding to categorical features\n",
    "\n",
    "Ref: https://lightgbm.readthedocs.io/en/latest/Python-Intro.html"
   ]
  },
  {
   "cell_type": "code",
   "execution_count": 6,
   "metadata": {},
   "outputs": [
    {
     "name": "stdout",
     "output_type": "stream",
     "text": [
      "label encoding procedures:\n",
      "Outlook : Sunny  ->  0 , Overcast  ->  1 , Rain  ->  2 , \n",
      "Wind : Weak  ->  0 , Strong  ->  1 , \n",
      "Decision : No  ->  0 , Yes  ->  1 , \n"
     ]
    }
   ],
   "source": [
    "features = []; categorical_features = []\n",
    "\n",
    "num_of_rows = dataset.shape[0]\n",
    "num_of_columns = dataset.shape[1]\n",
    "num_of_classes = 1 #default value is 1 for regression. we will update this for classification.\n",
    "\n",
    "print(\"label encoding procedures:\")\n",
    "\n",
    "for i in range(0, num_of_columns):\n",
    "    column_name = dataset.columns[i]\n",
    "    column_type = dataset[column_name].dtypes\n",
    "    \n",
    "    if i != num_of_columns - 1: #skip target\n",
    "        features.append(column_name)\n",
    "    \n",
    "    if column_type == 'object':\n",
    "        print(column_name,\": \", end='')\n",
    "        feature_classes = dataset[column_name].unique()\n",
    "        #print(feature_classes)\n",
    "        \n",
    "        if is_regression == False and i == num_of_columns - 1:\n",
    "            num_of_classes = len(feature_classes)\n",
    "        \n",
    "        for j in range(len(feature_classes)):\n",
    "            feature_class = feature_classes[j]\n",
    "            print(feature_class,\" -> \",j,\", \",end='')\n",
    "                        \n",
    "            dataset[column_name] = dataset[column_name].replace(feature_class, str(j))\n",
    "        \n",
    "        if i != num_of_columns - 1: #skip target\n",
    "            categorical_features.append(column_name)\n",
    "        \n",
    "        print(\"\")"
   ]
  },
  {
   "cell_type": "code",
   "execution_count": 7,
   "metadata": {},
   "outputs": [
    {
     "name": "stdout",
     "output_type": "stream",
     "text": [
      "num_of_classes:  2\n",
      "features:  ['Outlook', 'Temp.', 'Humidity', 'Wind']\n",
      "categorical features:  ['Outlook', 'Wind']\n"
     ]
    }
   ],
   "source": [
    "print(\"num_of_classes: \",num_of_classes)\n",
    "print(\"features: \",features)\n",
    "print(\"categorical features: \",categorical_features)"
   ]
  },
  {
   "cell_type": "code",
   "execution_count": 8,
   "metadata": {},
   "outputs": [
    {
     "data": {
      "text/html": [
       "<div>\n",
       "<style scoped>\n",
       "    .dataframe tbody tr th:only-of-type {\n",
       "        vertical-align: middle;\n",
       "    }\n",
       "\n",
       "    .dataframe tbody tr th {\n",
       "        vertical-align: top;\n",
       "    }\n",
       "\n",
       "    .dataframe thead th {\n",
       "        text-align: right;\n",
       "    }\n",
       "</style>\n",
       "<table border=\"1\" class=\"dataframe\">\n",
       "  <thead>\n",
       "    <tr style=\"text-align: right;\">\n",
       "      <th></th>\n",
       "      <th>Outlook</th>\n",
       "      <th>Temp.</th>\n",
       "      <th>Humidity</th>\n",
       "      <th>Wind</th>\n",
       "      <th>Decision</th>\n",
       "    </tr>\n",
       "  </thead>\n",
       "  <tbody>\n",
       "    <tr>\n",
       "      <th>0</th>\n",
       "      <td>0</td>\n",
       "      <td>85</td>\n",
       "      <td>85</td>\n",
       "      <td>0</td>\n",
       "      <td>0</td>\n",
       "    </tr>\n",
       "    <tr>\n",
       "      <th>1</th>\n",
       "      <td>0</td>\n",
       "      <td>80</td>\n",
       "      <td>90</td>\n",
       "      <td>1</td>\n",
       "      <td>0</td>\n",
       "    </tr>\n",
       "    <tr>\n",
       "      <th>2</th>\n",
       "      <td>1</td>\n",
       "      <td>83</td>\n",
       "      <td>78</td>\n",
       "      <td>0</td>\n",
       "      <td>1</td>\n",
       "    </tr>\n",
       "    <tr>\n",
       "      <th>3</th>\n",
       "      <td>2</td>\n",
       "      <td>70</td>\n",
       "      <td>96</td>\n",
       "      <td>0</td>\n",
       "      <td>1</td>\n",
       "    </tr>\n",
       "    <tr>\n",
       "      <th>4</th>\n",
       "      <td>2</td>\n",
       "      <td>68</td>\n",
       "      <td>80</td>\n",
       "      <td>0</td>\n",
       "      <td>1</td>\n",
       "    </tr>\n",
       "  </tbody>\n",
       "</table>\n",
       "</div>"
      ],
      "text/plain": [
       "  Outlook  Temp.  Humidity Wind Decision\n",
       "0       0     85        85    0        0\n",
       "1       0     80        90    1        0\n",
       "2       1     83        78    0        1\n",
       "3       2     70        96    0        1\n",
       "4       2     68        80    0        1"
      ]
     },
     "execution_count": 8,
     "metadata": {},
     "output_type": "execute_result"
    }
   ],
   "source": [
    "dataset.head()"
   ]
  },
  {
   "cell_type": "code",
   "execution_count": 9,
   "metadata": {},
   "outputs": [
    {
     "name": "stdout",
     "output_type": "stream",
     "text": [
      "input features:\n",
      " [['0' 85 85 '0']\n",
      " ['0' 80 90 '1']\n",
      " ['1' 83 78 '0']\n",
      " ['2' 70 96 '0']\n",
      " ['2' 68 80 '0']\n",
      " ['2' 65 70 '1']\n",
      " ['1' 64 65 '1']\n",
      " ['0' 72 95 '0']\n",
      " ['0' 69 70 '0']\n",
      " ['2' 75 80 '0']\n",
      " ['0' 75 70 '1']\n",
      " ['1' 72 90 '1']\n",
      " ['1' 81 75 '0']\n",
      " ['2' 71 80 '1']]\n",
      "--------------------\n",
      "output:\n",
      " ['0' '0' '1' '1' '1' '0' '1' '0' '1' '1' '1' '1' '1' '0']\n"
     ]
    }
   ],
   "source": [
    "target_name = dataset.columns[num_of_columns - 1] #target is the final column at the right on data set\n",
    "\n",
    "y_train = dataset[target_name].values\n",
    "x_train = dataset.drop(columns=[target_name]).values\n",
    "\n",
    "print(\"input features:\\n\",x_train)\n",
    "print(\"--------------------\")\n",
    "print(\"output:\\n\",y_train)"
   ]
  },
  {
   "cell_type": "markdown",
   "metadata": {},
   "source": [
    "Now, we are going to create data set for LightGBM. We have already transformed categorical features to integer in previous steps. Here, we have to define categorical features. Otherwise, decision node will check instance's that feature greater than some threshold or less than the threshold. Suppose that feature is related to gender information and values are -1 for unknown, 0 for man and 1 for woman. In this case, decision node might check that gender information is greater than -1. This might cause a trouble. That's why, specifying categorical features is very important."
   ]
  },
  {
   "cell_type": "code",
   "execution_count": 10,
   "metadata": {},
   "outputs": [],
   "source": [
    "lgb_train = lgb.Dataset(x_train, y_train\n",
    "    ,feature_name = features\n",
    "    , categorical_feature = categorical_features\n",
    ")"
   ]
  },
  {
   "cell_type": "code",
   "execution_count": 11,
   "metadata": {},
   "outputs": [
    {
     "name": "stderr",
     "output_type": "stream",
     "text": [
      "C:\\Users\\IS96273\\AppData\\Local\\Continuum\\anaconda3\\lib\\site-packages\\lightgbm\\basic.py:1184: UserWarning: Using categorical_feature in Dataset.\n",
      "  warnings.warn('Using categorical_feature in Dataset.')\n"
     ]
    }
   ],
   "source": [
    "params = {\n",
    "    'task': 'train'\n",
    "    , 'boosting_type': 'gbdt'\n",
    "    , 'objective': 'regression' if is_regression == True else 'multiclass'\n",
    "    , 'num_class': num_of_classes\n",
    "    , 'metric': 'rmsle' if is_regression == True else 'multi_logloss'\n",
    "    , 'min_data': 1\n",
    "    #, 'learning_rate':0.1\n",
    "    , 'verbose': -1\n",
    "}\n",
    "\n",
    "gbm = lgb.train(params, lgb_train, num_boost_round=50)"
   ]
  },
  {
   "cell_type": "code",
   "execution_count": 12,
   "metadata": {},
   "outputs": [
    {
     "name": "stdout",
     "output_type": "stream",
     "text": [
      "[[0.99674896 0.00325104]\n",
      " [0.99674896 0.00325104]\n",
      " [0.00325104 0.99674896]\n",
      " [0.00325104 0.99674896]\n",
      " [0.00325104 0.99674896]\n",
      " [0.99674896 0.00325104]\n",
      " [0.00325104 0.99674896]\n",
      " [0.99674896 0.00325104]\n",
      " [0.00325104 0.99674896]\n",
      " [0.00325104 0.99674896]\n",
      " [0.00325104 0.99674896]\n",
      " [0.00325104 0.99674896]\n",
      " [0.00325104 0.99674896]\n",
      " [0.99674896 0.00325104]]\n"
     ]
    },
    {
     "data": {
      "text/plain": [
       "'for i in predictions:\\n    print(np.argmax(i))'"
      ]
     },
     "execution_count": 12,
     "metadata": {},
     "output_type": "execute_result"
    }
   ],
   "source": [
    "predictions = gbm.predict(x_train)\n",
    "\n",
    "print(predictions)\n",
    "\"\"\"for i in predictions:\n",
    "    print(np.argmax(i))\"\"\""
   ]
  },
  {
   "cell_type": "code",
   "execution_count": 13,
   "metadata": {},
   "outputs": [
    {
     "name": "stdout",
     "output_type": "stream",
     "text": [
      "1 . actual=  0 , prediction=  0\n",
      "2 . actual=  0 , prediction=  0\n",
      "3 . actual=  1 , prediction=  1\n",
      "4 . actual=  1 , prediction=  1\n",
      "5 . actual=  1 , prediction=  1\n",
      "6 . actual=  0 , prediction=  0\n",
      "7 . actual=  1 , prediction=  1\n",
      "8 . actual=  0 , prediction=  0\n",
      "9 . actual=  1 , prediction=  1\n",
      "10 . actual=  1 , prediction=  1\n",
      "11 . actual=  1 , prediction=  1\n",
      "12 . actual=  1 , prediction=  1\n",
      "13 . actual=  1 , prediction=  1\n",
      "14 . actual=  0 , prediction=  0\n"
     ]
    }
   ],
   "source": [
    "for index, instance in dataset.iterrows():\n",
    "    actual = instance[target_name]\n",
    "    \n",
    "    if is_regression == True:\n",
    "        prediction = round(predictions[index])\n",
    "    else: #classification\n",
    "        prediction = np.argmax(predictions[index])\n",
    "    \n",
    "    print((index+1),\". actual= \",actual,\", prediction= \",prediction)"
   ]
  },
  {
   "cell_type": "code",
   "execution_count": 14,
   "metadata": {
    "scrolled": false
   },
   "outputs": [],
   "source": [
    "if plotTree == True:\n",
    "    \n",
    "    fig_size = [30, 20]\n",
    "    plt.rcParams[\"figure.figsize\"] = fig_size\n",
    "\n",
    "    ax = lgb.plot_tree(gbm)\n",
    "    plt.show()\n",
    "    \n",
    "    #ax = lgb.plot_importance(gbm, max_num_features=10)\n",
    "    #plt.show()"
   ]
  },
  {
   "cell_type": "code",
   "execution_count": null,
   "metadata": {},
   "outputs": [],
   "source": []
  }
 ],
 "metadata": {
  "kernelspec": {
   "display_name": "Python 3",
   "language": "python",
   "name": "python3"
  },
  "language_info": {
   "codemirror_mode": {
    "name": "ipython",
    "version": 3
   },
   "file_extension": ".py",
   "mimetype": "text/x-python",
   "name": "python",
   "nbconvert_exporter": "python",
   "pygments_lexer": "ipython3",
   "version": "3.6.4"
  }
 },
 "nbformat": 4,
 "nbformat_minor": 2
}
